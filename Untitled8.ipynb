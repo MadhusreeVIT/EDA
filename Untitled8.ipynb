{
  "nbformat": 4,
  "nbformat_minor": 0,
  "metadata": {
    "colab": {
      "provenance": [],
      "authorship_tag": "ABX9TyPSTzHLxganBapK+eJiHt4P",
      "include_colab_link": true
    },
    "kernelspec": {
      "name": "python3",
      "display_name": "Python 3"
    },
    "language_info": {
      "name": "python"
    }
  },
  "cells": [
    {
      "cell_type": "markdown",
      "metadata": {
        "id": "view-in-github",
        "colab_type": "text"
      },
      "source": [
        "<a href=\"https://colab.research.google.com/github/MadhusreeVIT/EDA/blob/main/Untitled8.ipynb\" target=\"_parent\"><img src=\"https://colab.research.google.com/assets/colab-badge.svg\" alt=\"Open In Colab\"/></a>"
      ]
    },
    {
      "cell_type": "code",
      "execution_count": 2,
      "metadata": {
        "colab": {
          "base_uri": "https://localhost:8080/"
        },
        "id": "bxQvV4AUGgC0",
        "outputId": "70826d1e-9d2d-4af7-d29e-da9ec06f53c3"
      },
      "outputs": [
        {
          "output_type": "stream",
          "name": "stdout",
          "text": [
            "36\n"
          ]
        }
      ],
      "source": [
        "height = 3\n",
        "length = 6\n",
        "width = 2\n",
        "volume = height * length * width\n",
        "print(volume)"
      ]
    },
    {
      "cell_type": "code",
      "source": [
        "height,length,width = 3,6,2\n",
        "volume = height*length*width\n",
        "print(volume)"
      ],
      "metadata": {
        "colab": {
          "base_uri": "https://localhost:8080/"
        },
        "id": "I-GSjomcGxkg",
        "outputId": "35c21bd9-8455-4aa0-b55a-a14f74686df1"
      },
      "execution_count": 3,
      "outputs": [
        {
          "output_type": "stream",
          "name": "stdout",
          "text": [
            "36\n"
          ]
        }
      ]
    },
    {
      "cell_type": "markdown",
      "source": [
        "python is a case senstitive language.\n",
        "cannot use def,for,if,del,from asvariable name.\n",
        "lowercase latters and underscores to separatr words.\n"
      ],
      "metadata": {
        "id": "s1RpkfqXIAY6"
      }
    },
    {
      "cell_type": "code",
      "source": [
        "my_height = 58\n",
        "my_lat = 40\n",
        "my_long =105\n",
        "print(my_long)\n",
        "print(my_lat)\n",
        "print(my_height)\n",
        "\n"
      ],
      "metadata": {
        "colab": {
          "base_uri": "https://localhost:8080/"
        },
        "id": "ZDamPs6nHK-j",
        "outputId": "f81ee5a9-da89-4137-f72c-2d919dc85fbf"
      },
      "execution_count": 6,
      "outputs": [
        {
          "output_type": "stream",
          "name": "stdout",
          "text": [
            "105\n",
            "40\n",
            "58\n"
          ]
        }
      ]
    },
    {
      "cell_type": "markdown",
      "source": [
        "# **overwriting the variable**"
      ],
      "metadata": {
        "id": "CDFL7cC5OktM"
      }
    },
    {
      "cell_type": "code",
      "source": [
        "rent = 1700\n",
        "rent = 2000\n",
        "print(rent)"
      ],
      "metadata": {
        "colab": {
          "base_uri": "https://localhost:8080/"
        },
        "id": "usGEUhJ7ObHJ",
        "outputId": "cc27b8a9-3dc1-4b3a-af44-d05ba85a6705"
      },
      "execution_count": 9,
      "outputs": [
        {
          "output_type": "stream",
          "name": "stdout",
          "text": [
            "2000\n"
          ]
        }
      ]
    },
    {
      "cell_type": "code",
      "source": [],
      "metadata": {
        "id": "8GDlTSeiPtmR"
      },
      "execution_count": null,
      "outputs": []
    }
  ]
}